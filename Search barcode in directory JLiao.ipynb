{
 "cells": [
  {
   "cell_type": "code",
   "execution_count": 2,
   "metadata": {},
   "outputs": [
    {
     "name": "stdout",
     "output_type": "stream",
     "text": [
      "Input barcode you are trying to find:5xyzV35sSoMgFxk5_12\n",
      "found string in file EDM_daily_accepted_samples_2020-12-12.csv\n",
      "             mode            session       gtid            result_id\n",
      "396  Surveillance  Surveillance 2023  902918837  5xyzV35sSoMgFxk5_12\n",
      "found string in file EDM_daily_accepted_samples_2020-12-13.csv\n",
      "    mode    session         gtid            result_id\n",
      "16  CLIA  CLIA 2023  902918837.0  5xyzV35sSoMgFxk5_12\n",
      "barcode not found\n",
      "barcode not found\n",
      "barcode not found\n"
     ]
    }
   ],
   "source": [
    "import os\n",
    "import pandas as pd\n",
    "\n",
    "search_path = \"/Users/jliao/Georgia Institute of Technology/Bryksin, Anton V - ME Core CLIA Lab/Mytest Lab/MyTest Reports\\\n",
    "/December 2020/EDM to report\"\n",
    "directory = os.listdir(path=search_path)\n",
    "\n",
    "searchstring = input('Input barcode you are trying to find:')\n",
    "\n",
    "for fname in directory:\n",
    "    #if os.path.isfile(search_path + os.sep + fname):\n",
    "     \n",
    "    if fname.endswith(\".csv\"):\n",
    "        with open(search_path + os.sep + fname,'r') as f:\n",
    "            if searchstring in f.read():\n",
    "                print('found string in file %s' % fname)\n",
    "                        #for row in csv.reader(f):\n",
    "                            #if row[0] == searchstring:\n",
    "                                #print(row)\n",
    "                df = pd.read_csv(search_path + os.sep + fname)\n",
    "                print(df[df['result_id'] == searchstring].iloc[:,:4])\n",
    "            else:\n",
    "                print('barcode not found')\n",
    "            f.close()"
   ]
  },
  {
   "cell_type": "code",
   "execution_count": null,
   "metadata": {},
   "outputs": [],
   "source": []
  }
 ],
 "metadata": {
  "kernelspec": {
   "display_name": "Python 3",
   "language": "python",
   "name": "python3"
  },
  "language_info": {
   "codemirror_mode": {
    "name": "ipython",
    "version": 3
   },
   "file_extension": ".py",
   "mimetype": "text/x-python",
   "name": "python",
   "nbconvert_exporter": "python",
   "pygments_lexer": "ipython3",
   "version": "3.7.3"
  }
 },
 "nbformat": 4,
 "nbformat_minor": 2
}
